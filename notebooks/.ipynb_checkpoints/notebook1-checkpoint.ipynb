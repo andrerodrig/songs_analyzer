{
 "cells": [
  {
   "cell_type": "markdown",
   "metadata": {},
   "source": [
    "## TODO\n",
    " - [ ] Remover músicas instrumentais (elas não tem letra)\n",
    " - "
   ]
  },
  {
   "cell_type": "code",
   "execution_count": 9,
   "metadata": {},
   "outputs": [],
   "source": [
    "import numpy as np\n",
    "import pandas as pd\n",
    "#from songs_analyzer.config import get_root_path\n",
    "#import nltk\n",
    "#from nltk.corpus import stopwords\n",
    "#from nltk.stem.snowball import PortugueseStemmer\n",
    "'''\n",
    "from sklearn.pipeline import Pipeline\n",
    "from sklearn.model_selection import cross_validate\n",
    "from sklearn.feature_extraction.text import TfidfVectorizer\n",
    "from sklearn.linear_model import LogisticRegression\n",
    "from sklearn.tree import DecisionTreeClassifier\n",
    "from sklearn.neural_network import MLPClassifier\n",
    "from sklearn.svm import SVC\n",
    "from sklearn.naive_bayes import MultinomialNB\n",
    "'''"
   ]
  },
  {
   "cell_type": "code",
   "execution_count": 8,
   "metadata": {},
   "outputs": [
    {
     "name": "stdout",
     "output_type": "stream",
     "text": [
      "Defaulting to user installation because normal site-packages is not writeable\n",
      "Collecting sklearn\n",
      "  Downloading sklearn-0.0.tar.gz (1.1 kB)\n",
      "  Preparing metadata (setup.py) ... \u001b[?25ldone\n",
      "\u001b[?25hCollecting scikit-learn\n",
      "  Downloading scikit_learn-1.0.2-cp38-cp38-manylinux_2_17_x86_64.manylinux2014_x86_64.whl (26.7 MB)\n",
      "     |████████████████████████████████| 26.7 MB 35 kB/s             \n",
      "\u001b[?25hCollecting threadpoolctl>=2.0.0\n",
      "  Downloading threadpoolctl-3.0.0-py3-none-any.whl (14 kB)\n",
      "Collecting joblib>=0.11\n",
      "  Downloading joblib-1.1.0-py2.py3-none-any.whl (306 kB)\n",
      "     |████████████████████████████████| 306 kB 76.5 MB/s            \n",
      "\u001b[?25hCollecting scipy>=1.1.0\n",
      "  Downloading scipy-1.7.3-cp38-cp38-manylinux_2_17_x86_64.manylinux2014_x86_64.whl (39.3 MB)\n",
      "     |████████████████████████████████| 39.3 MB 39.9 MB/s            \n",
      "\u001b[?25hRequirement already satisfied: numpy>=1.14.6 in /home/ajsalmeida/.local/lib/python3.8/site-packages (from scikit-learn->sklearn) (1.22.0)\n",
      "Building wheels for collected packages: sklearn\n",
      "  Building wheel for sklearn (setup.py) ... \u001b[?25ldone\n",
      "\u001b[?25h  Created wheel for sklearn: filename=sklearn-0.0-py2.py3-none-any.whl size=1316 sha256=ffca5e01781525fc4f3719845a6f382af39df7f4e5db33e13344255f7cf9b4c5\n",
      "  Stored in directory: /home/ajsalmeida/.cache/pip/wheels/22/0b/40/fd3f795caaa1fb4c6cb738bc1f56100be1e57da95849bfc897\n",
      "Successfully built sklearn\n",
      "Installing collected packages: threadpoolctl, scipy, joblib, scikit-learn, sklearn\n",
      "Successfully installed joblib-1.1.0 scikit-learn-1.0.2 scipy-1.7.3 sklearn-0.0 threadpoolctl-3.0.0\n",
      "Note: you may need to restart the kernel to use updated packages.\n"
     ]
    }
   ],
   "source": [
    "#pip install sklearn"
   ]
  },
  {
   "cell_type": "code",
   "execution_count": null,
   "metadata": {},
   "outputs": [],
   "source": [
    "'''def join_lyrics(df, columns):\n",
    "    for column in columns:\n",
    "        df[column] = df[column].apply(lambda x: ', '.join(x))\n",
    "    return df\n",
    "\n",
    "def remove_unknown_genders(df):\n",
    "    unknown_genders = ['L', 'T','J', 'K','Z', 'M', 'R', 'B', 'V', 'E', 'G', 'F', 'S', 'D', 'H', 'P', 'C', 'A']\n",
    "    return df.query(\"gender not in @unknown_genders\")\n",
    "\n",
    "def remove_small_gender(df):\n",
    "    gender_count = df.value_counts('gender')\n",
    "    values = gender_count[gender_count.values < 50].index\n",
    "    return df.query(\"gender not in @values\")\n",
    "\n",
    "def transform_title(df):\n",
    "    df['title'] = df['title'].apply(lambda x: x[0] if isinstance(x, list) else x)\n",
    "    return df\n",
    "\n",
    "def remove_instrumental_music(df):\n",
    "    values = ['Instrumental', '(Instrumental)', '[Instrumental]', \"\", \"instrumental\"]\n",
    "    return df.query(\"lyric not in @values\")\n",
    "\n",
    "def remove_small_letters(df):\n",
    "    df = df.query('lyric.str.len() > 100')\n",
    "    return df[df.lyric.apply(lambda x: len(set(x.split())) > 40)]\n",
    "    '''\n",
    "    "
   ]
  },
  {
   "cell_type": "code",
   "execution_count": null,
   "metadata": {},
   "outputs": [],
   "source": [
    "'''\n",
    "df = (\n",
    "    pd\n",
    "    .read_json(get_root_path() / \"data/raw/songs.json\")\n",
    "    .pipe(join_lyrics, ['lyric'])\n",
    "    .pipe(remove_unknown_genders)\n",
    "    .pipe(remove_small_gender)\n",
    "    .pipe(transform_title)\n",
    "    .pipe(remove_instrumental_music)\n",
    "    .pipe(remove_small_letters)\n",
    "    \n",
    ")\n",
    "df.reset_index(drop=True, inplace=True)\n",
    "df.drop_duplicates(subset='lyric', keep=\"first\", inplace=True)\n",
    "df.head()\n",
    "'''"
   ]
  },
  {
   "cell_type": "code",
   "execution_count": null,
   "metadata": {},
   "outputs": [],
   "source": [
    "#df.shape"
   ]
  },
  {
   "cell_type": "code",
   "execution_count": null,
   "metadata": {},
   "outputs": [],
   "source": [
    "'''\n",
    "X = df['lyric']\n",
    "y = df['gender']\n",
    "'''"
   ]
  },
  {
   "cell_type": "markdown",
   "metadata": {},
   "source": [
    "Talvez seja bom capturar mais músicas dos gêneros que saíram pouco e são conhecidos, como `forró`, `Sertanejo`, etc."
   ]
  },
  {
   "cell_type": "code",
   "execution_count": null,
   "metadata": {},
   "outputs": [],
   "source": [
    "'''stop_words = stopwords.words('portuguese')\n",
    "stemmer = PortugueseStemmer()\n",
    "analyzer = TfidfVectorizer().build_analyzer()\n",
    "\n",
    "def stemmed_words(doc):\n",
    "    return (stemmer.stem(w) for w in analyzer(doc))\n",
    "\n",
    "stem_vectorizer = TfidfVectorizer(\n",
    "    analyzer=stemmed_words,\n",
    "    stop_words=stop_words,\n",
    "    max_features=5000\n",
    ")\n",
    "transformer = Pipeline(\n",
    "    steps= [\n",
    "        ('stemmer_tfidf', stem_vectorizer)\n",
    "    ]\n",
    ")\n",
    "'''"
   ]
  },
  {
   "cell_type": "code",
   "execution_count": null,
   "metadata": {},
   "outputs": [],
   "source": [
    "#X_vector = transformer.fit_transform(X)"
   ]
  },
  {
   "cell_type": "code",
   "execution_count": null,
   "metadata": {},
   "outputs": [],
   "source": [
    "'''from sklearn.neighbors import NearestNeighbors\n",
    "\n",
    "neigh = NearestNeighbors(n_neighbors=10)\n",
    "\n",
    "neigh.fit(X_vector)\n",
    "'''"
   ]
  },
  {
   "cell_type": "code",
   "execution_count": null,
   "metadata": {},
   "outputs": [],
   "source": [
    "#df.query('title == \"')"
   ]
  },
  {
   "cell_type": "code",
   "execution_count": null,
   "metadata": {},
   "outputs": [],
   "source": [
    "'''\n",
    "letra = df.query('title == \"De Quem É a Culpa?\"').lyric.to_list()\n",
    "songs = neigh.kneighbors(transformer.transform(letra), return_distance=False)\n",
    "df.iloc[songs[0]]\n",
    "'''"
   ]
  },
  {
   "cell_type": "code",
   "execution_count": null,
   "metadata": {},
   "outputs": [],
   "source": [
    "#df.query('title == \"Blood\"')"
   ]
  },
  {
   "cell_type": "code",
   "execution_count": null,
   "metadata": {},
   "outputs": [],
   "source": []
  },
  {
   "cell_type": "code",
   "execution_count": null,
   "metadata": {},
   "outputs": [],
   "source": [
    "'''\n",
    "decisiontree = DecisionTreeClassifier()\n",
    "\n",
    "mlp = MLPClassifier(\n",
    "    hidden_layer_sizes=(100,), \n",
    "    activation='relu',\n",
    "    solver = 'adam',\n",
    "    alpha=0.001\n",
    ")\n",
    "\n",
    "# clf = StackingClassifier(\n",
    "#     estimators=[\n",
    "#         ('decisiontree',decisiontree),\n",
    "#         ('lr', lr),\n",
    "#         ('mlp', mlp),\n",
    "#         ('svc',svc)\n",
    "#     ],\n",
    "#     final_estimator=svc,\n",
    "#     cv=10\n",
    "# )\n",
    "\n",
    "models = {\n",
    "    'nb': MultinomialNB(),\n",
    "    # 'lr': LogisticRegression(multi_class='multinomial', n_jobs=-1, max_iter=1000),\n",
    "    'svc':SVC(probability=True, max_iter=1000),\n",
    "    'decisiontree': DecisionTreeClassifier(),\n",
    "    # 'mlp': mlp,\n",
    "    # 'stacked': clf\n",
    "}\n",
    "'''"
   ]
  },
  {
   "cell_type": "code",
   "execution_count": null,
   "metadata": {},
   "outputs": [],
   "source": [
    "'''\n",
    "results = {}\n",
    "for model_name, model in models.items():\n",
    "    reg = Pipeline(\n",
    "            steps=[\n",
    "                ('preprocessor', transformer),\n",
    "                ('regressor', model)\n",
    "            ]\n",
    "        )\n",
    "    scores = cross_validate(reg, X, y, scoring=[ 'accuracy'], cv=5)\n",
    "    results[model_name] = {\n",
    "        # 'f1': scores['test_f1'],\n",
    "        'accuracy': scores['test_accuracy']\n",
    "    }\n",
    "    print(results)\n",
    "'''"
   ]
  },
  {
   "cell_type": "code",
   "execution_count": null,
   "metadata": {},
   "outputs": [],
   "source": []
  }
 ],
 "metadata": {
  "interpreter": {
   "hash": "96995c9f15584d160897e0ae3095696069eacbab3c4451677fd3e9290ae3fffb"
  },
  "kernelspec": {
   "display_name": "Python 3 (ipykernel)",
   "language": "python",
   "name": "python3"
  },
  "language_info": {
   "codemirror_mode": {
    "name": "ipython",
    "version": 3
   },
   "file_extension": ".py",
   "mimetype": "text/x-python",
   "name": "python",
   "nbconvert_exporter": "python",
   "pygments_lexer": "ipython3",
   "version": "3.8.10"
  }
 },
 "nbformat": 4,
 "nbformat_minor": 2
}
